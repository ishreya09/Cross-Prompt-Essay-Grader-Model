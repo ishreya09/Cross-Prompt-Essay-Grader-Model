{
 "cells": [
  {
   "cell_type": "code",
   "execution_count": 2,
   "metadata": {},
   "outputs": [
    {
     "name": "stdout",
     "output_type": "stream",
     "text": [
      "[[1.00000000e+00 4.73611360e-01 5.12424172e-01 ... 3.33333333e-01\n",
      "  0.00000000e+00 0.00000000e+00]\n",
      " [2.00000000e+00 5.82581672e-01 5.52950041e-01 ... 1.11111111e-01\n",
      "  0.00000000e+00 0.00000000e+00]\n",
      " [3.00000000e+00 4.45281274e-01 4.70945463e-01 ... 1.11111111e-01\n",
      "  1.00000000e-01 8.33333333e-02]\n",
      " ...\n",
      " [2.16290000e+04 5.14704772e-01 5.21653234e-01 ... 1.81818182e-01\n",
      "  2.35294118e-01 2.35294118e-01]\n",
      " [2.16300000e+04 4.08351936e-01 3.50177036e-01 ... 2.72727273e-01\n",
      "  1.17647059e-01 2.94117647e-01]\n",
      " [2.16330000e+04 5.28985760e-01 4.42029434e-01 ... 4.54545455e-01\n",
      "  0.00000000e+00 5.88235294e-02]]\n"
     ]
    }
   ],
   "source": [
    "import pickle\n",
    "\n",
    "# Load the pickle file for data\n",
    "with open('allreadability.pickle', 'rb') as f:\n",
    "    data = pickle.load(f)\n",
    "    \n",
    "# Print the data\n",
    "print(data)\n"
   ]
  },
  {
   "cell_type": "code",
   "execution_count": 3,
   "metadata": {},
   "outputs": [
    {
     "data": {
      "text/plain": [
       "(12978, 36)"
      ]
     },
     "execution_count": 3,
     "metadata": {},
     "output_type": "execute_result"
    }
   ],
   "source": [
    "data.shape"
   ]
  },
  {
   "cell_type": "code",
   "execution_count": 4,
   "metadata": {},
   "outputs": [],
   "source": [
    "feature_names = [\n",
    "    'Essay_ID',  # Index 0\n",
    "    'Kincaid_Grade_Level',  \n",
    "    'ARI',\n",
    "    'Coleman_Liau_Index',\n",
    "    'Flesch_Reading_Ease',\n",
    "    'Gunning_Fog_Index',\n",
    "    'LIX',\n",
    "    'SMOG_Index',\n",
    "    'RIX',\n",
    "    'Dale_Chall_Index',\n",
    "    'Avg_Characters_per_Word',\n",
    "    'Avg_Syllables_per_Word',\n",
    "    'Avg_Words_per_Sentence',\n",
    "    'Sentences_per_Paragraph',\n",
    "    'Type_Token_Ratio',\n",
    "    'Total_Characters',\n",
    "    'Total_Syllables',\n",
    "    'Total_Words',\n",
    "    'Unique_Word_Types',\n",
    "    'Total_Sentences',\n",
    "    'Total_Paragraphs',\n",
    "    'Total_Long_Words',\n",
    "    'Total_Complex_Words',\n",
    "    'Total_Complex_Words_DC',\n",
    "    'Total_ToBe_Verbs',\n",
    "    'Total_Auxiliary_Verbs',\n",
    "    'Total_Conjunctions',\n",
    "    'Total_Pronouns',\n",
    "    'Total_Prepositions',\n",
    "    'Total_Nominalizations',\n",
    "    'Total_Pronoun_Starters',\n",
    "    'Total_Interrogative_Starters',\n",
    "    'Total_Article_Starters',\n",
    "    'Total_Subordinate_Starters',\n",
    "    'Total_Conjunction_Starters',\n",
    "    'Total_Preposition_Starters'\n",
    "]\n"
   ]
  },
  {
   "cell_type": "code",
   "execution_count": 5,
   "metadata": {},
   "outputs": [],
   "source": [
    "# convert data to csv\n",
    "import csv\n",
    "import pandas as pd\n",
    "\n",
    "# Create a csv file\n",
    "with open('data.csv', 'w', newline='') as csvfile:\n",
    "    writer = csv.writer(csvfile)\n",
    "    writer.writerow(feature_names)\n",
    "    for row in data:\n",
    "        writer.writerow(row)\n",
    "        \n",
    "# Read the csv file\n",
    "df = pd.read_csv('data.csv')"
   ]
  },
  {
   "cell_type": "code",
   "execution_count": null,
   "metadata": {},
   "outputs": [],
   "source": []
  }
 ],
 "metadata": {
  "kernelspec": {
   "display_name": "Python 3",
   "language": "python",
   "name": "python3"
  },
  "language_info": {
   "codemirror_mode": {
    "name": "ipython",
    "version": 3
   },
   "file_extension": ".py",
   "mimetype": "text/x-python",
   "name": "python",
   "nbconvert_exporter": "python",
   "pygments_lexer": "ipython3",
   "version": "3.12.6"
  }
 },
 "nbformat": 4,
 "nbformat_minor": 2
}
