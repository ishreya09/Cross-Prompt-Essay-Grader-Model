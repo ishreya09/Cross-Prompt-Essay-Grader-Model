{
 "cells": [
  {
   "cell_type": "code",
   "execution_count": null,
   "metadata": {},
   "outputs": [
    {
     "name": "stdout",
     "output_type": "stream",
     "text": [
      "Topic 0: Coherence Score: -0.28769577215415804\n",
      "Topic 1: Coherence Score: 0.09946800852953795\n",
      "Topic 2: Coherence Score: 0.13557907349238377\n",
      "Topic 3: Coherence Score: 0.004558081229387434\n",
      "Topic 4: Coherence Score: -0.201355145250593\n",
      "Topic 5: Coherence Score: -0.02752123389310678\n",
      "Topic 6: Coherence Score: -0.36255221341109334\n",
      "Topic 7: Coherence Score: -0.35314402354417346\n",
      "Topic 8: Coherence Score: 0.012117381388664656\n",
      "Topic 9: Coherence Score: 0.016085606927812062\n",
      "Topic 10: Coherence Score: 0.1366860509401476\n",
      "Topic 11: Coherence Score: 0.03392122017448562\n",
      "Topic 12: Coherence Score: 0.0466676233737671\n",
      "Topic 13: Coherence Score: 0.08795086216816345\n",
      "Topic 14: Coherence Score: -0.29969265989988564\n",
      "Topic 15: Coherence Score: -0.34002942632576566\n",
      "Topic 16: Coherence Score: 0.12389529994687908\n",
      "Topic 17: Coherence Score: 0.03544586548600742\n",
      "Topic 18: Coherence Score: 0.07773925314751409\n",
      "Topic 19: Coherence Score: -0.29768741181923314\n"
     ]
    }
   ],
   "source": [
    "import pandas as pd\n",
    "import numpy as np\n",
    "import pickle\n",
    "from gensim import corpora\n",
    "from gensim.models import LdaModel\n",
    "from gensim.models.coherencemodel import CoherenceModel\n",
    "from nltk.tokenize import word_tokenize\n",
    "from nltk.corpus import stopwords\n",
    "from nltk.stem import WordNetLemmatizer\n",
    "import os\n",
    "\n",
    "# Load your dataset\n",
    "df = pd.read_csv('combined_data.csv')\n",
    "\n",
    "# Preprocess text\n",
    "stop_words = set(stopwords.words('english'))\n",
    "lemmatizer = WordNetLemmatizer()\n",
    "\n",
    "def preprocess(text):\n",
    "    tokens = word_tokenize(text.lower())\n",
    "    tokens = [lemmatizer.lemmatize(token) for token in tokens if token.isalpha() and token not in stop_words]\n",
    "    return tokens\n",
    "\n",
    "# Apply preprocessing\n",
    "df['processed_texts'] = df['content_text'].apply(preprocess)\n",
    "\n",
    "# Create Dictionary and Corpus\n",
    "dictionary = corpora.Dictionary(df['processed_texts'])\n",
    "corpus = [dictionary.doc2bow(text) for text in df['processed_texts']]\n",
    "\n",
    "# Step 5: Define Topics for Coherence Evaluation\n",
    "num_topics = 8  # You can set this to the desired number of topics\n",
    "lda_model = LdaModel(corpus=corpus, id2word=dictionary, num_topics=num_topics, random_state=42, passes=10)\n",
    "\n",
    "# Save the LDA model\n",
    "model_dir = \"lda_models\"\n",
    "os.makedirs(model_dir, exist_ok=True)\n",
    "model_filename = os.path.join(model_dir, \"lda_model.joblib\")\n",
    "pickle.dump(lda_model, model_filename)\n",
    "\n",
    "# Step 6: Evaluate Topics using Coherence Model\n",
    "coherence_model = CoherenceModel(model=lda_model, texts=df['processed_texts'], dictionary=dictionary, coherence='c_npmi')\n",
    "topic_coherence = coherence_model.get_coherence_per_topic()\n",
    "\n",
    "\n",
    "\n",
    "# Print topic coherence scores\n",
    "for i, coherence in enumerate(topic_coherence):\n",
    "    print(f'Topic {i}: Coherence Score: {coherence}')\n",
    "\n",
    "# Optionally, save coherence scores for further analysis\n",
    "coherence_df = pd.DataFrame({\n",
    "    'Topic': range(len(topic_coherence)),\n",
    "    'Coherence Score': topic_coherence,\n",
    "    \n",
    "    \n",
    "})\n",
    "coherence_df.to_csv('topic_coherence_scores.csv', index=False)\n"
   ]
  },
  {
   "cell_type": "code",
   "execution_count": null,
   "metadata": {},
   "outputs": [],
   "source": []
  }
 ],
 "metadata": {
  "kernelspec": {
   "display_name": "Python 3",
   "language": "python",
   "name": "python3"
  },
  "language_info": {
   "codemirror_mode": {
    "name": "ipython",
    "version": 3
   },
   "file_extension": ".py",
   "mimetype": "text/x-python",
   "name": "python",
   "nbconvert_exporter": "python",
   "pygments_lexer": "ipython3",
   "version": "3.12.6"
  }
 },
 "nbformat": 4,
 "nbformat_minor": 2
}
