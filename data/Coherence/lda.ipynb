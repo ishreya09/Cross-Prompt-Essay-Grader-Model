{
 "cells": [
  {
   "cell_type": "code",
   "execution_count": 4,
   "metadata": {},
   "outputs": [
    {
     "name": "stdout",
     "output_type": "stream",
     "text": [
      "Collecting gensim\n",
      "  Downloading gensim-4.3.3-cp312-cp312-win_amd64.whl.metadata (8.2 kB)\n",
      "Requirement already satisfied: numpy<2.0,>=1.18.5 in c:\\users\\mishr\\appdata\\local\\programs\\python\\python312\\lib\\site-packages (from gensim) (1.26.4)\n",
      "Collecting scipy<1.14.0,>=1.7.0 (from gensim)\n",
      "  Downloading scipy-1.13.1-cp312-cp312-win_amd64.whl.metadata (60 kB)\n",
      "Collecting smart-open>=1.8.1 (from gensim)\n",
      "  Downloading smart_open-7.0.5-py3-none-any.whl.metadata (24 kB)\n",
      "Requirement already satisfied: wrapt in c:\\users\\mishr\\appdata\\local\\programs\\python\\python312\\lib\\site-packages (from smart-open>=1.8.1->gensim) (1.16.0)\n",
      "Downloading gensim-4.3.3-cp312-cp312-win_amd64.whl (24.0 MB)\n",
      "   ---------------------------------------- 0.0/24.0 MB ? eta -:--:--\n",
      "   -- ------------------------------------- 1.3/24.0 MB 6.7 MB/s eta 0:00:04\n",
      "   --- ------------------------------------ 2.4/24.0 MB 5.8 MB/s eta 0:00:04\n",
      "   ---- ----------------------------------- 2.6/24.0 MB 5.8 MB/s eta 0:00:04\n",
      "   ---- ----------------------------------- 2.9/24.0 MB 3.6 MB/s eta 0:00:06\n",
      "   ---- ----------------------------------- 2.9/24.0 MB 3.6 MB/s eta 0:00:06\n",
      "   ------ --------------------------------- 3.7/24.0 MB 2.9 MB/s eta 0:00:07\n",
      "   ------- -------------------------------- 4.5/24.0 MB 3.2 MB/s eta 0:00:07\n",
      "   --------- ------------------------------ 5.5/24.0 MB 3.3 MB/s eta 0:00:06\n",
      "   ---------- ----------------------------- 6.0/24.0 MB 3.3 MB/s eta 0:00:06\n",
      "   ----------- ---------------------------- 7.1/24.0 MB 3.3 MB/s eta 0:00:06\n",
      "   ------------- -------------------------- 7.9/24.0 MB 3.4 MB/s eta 0:00:05\n",
      "   -------------- ------------------------- 8.7/24.0 MB 3.5 MB/s eta 0:00:05\n",
      "   --------------- ------------------------ 9.4/24.0 MB 3.5 MB/s eta 0:00:05\n",
      "   ----------------- ---------------------- 10.2/24.0 MB 3.5 MB/s eta 0:00:04\n",
      "   ------------------ --------------------- 11.3/24.0 MB 3.6 MB/s eta 0:00:04\n",
      "   ------------------- -------------------- 11.8/24.0 MB 3.7 MB/s eta 0:00:04\n",
      "   -------------------- ------------------- 12.3/24.0 MB 3.5 MB/s eta 0:00:04\n",
      "   --------------------- ------------------ 13.1/24.0 MB 3.5 MB/s eta 0:00:04\n",
      "   ----------------------- ---------------- 13.9/24.0 MB 3.5 MB/s eta 0:00:03\n",
      "   ------------------------ --------------- 14.7/24.0 MB 3.5 MB/s eta 0:00:03\n",
      "   -------------------------- ------------- 15.7/24.0 MB 3.6 MB/s eta 0:00:03\n",
      "   --------------------------- ------------ 16.5/24.0 MB 3.6 MB/s eta 0:00:03\n",
      "   ---------------------------- ----------- 17.3/24.0 MB 3.6 MB/s eta 0:00:02\n",
      "   ------------------------------ --------- 18.1/24.0 MB 3.6 MB/s eta 0:00:02\n",
      "   ------------------------------ --------- 18.1/24.0 MB 3.6 MB/s eta 0:00:02\n",
      "   ------------------------------ --------- 18.4/24.0 MB 3.4 MB/s eta 0:00:02\n",
      "   ------------------------------- -------- 18.9/24.0 MB 3.3 MB/s eta 0:00:02\n",
      "   -------------------------------- ------- 19.4/24.0 MB 3.3 MB/s eta 0:00:02\n",
      "   --------------------------------- ------ 20.2/24.0 MB 3.3 MB/s eta 0:00:02\n",
      "   ---------------------------------- ----- 21.0/24.0 MB 3.3 MB/s eta 0:00:01\n",
      "   ----------------------------------- ---- 21.5/24.0 MB 3.3 MB/s eta 0:00:01\n",
      "   ------------------------------------ --- 22.0/24.0 MB 3.3 MB/s eta 0:00:01\n",
      "   ------------------------------------- -- 22.8/24.0 MB 3.3 MB/s eta 0:00:01\n",
      "   ---------------------------------------  23.6/24.0 MB 3.3 MB/s eta 0:00:01\n",
      "   ---------------------------------------- 24.0/24.0 MB 3.3 MB/s eta 0:00:00\n",
      "Downloading scipy-1.13.1-cp312-cp312-win_amd64.whl (45.9 MB)\n",
      "   ---------------------------------------- 0.0/45.9 MB ? eta -:--:--\n",
      "    --------------------------------------- 1.0/45.9 MB 5.0 MB/s eta 0:00:09\n",
      "   - -------------------------------------- 1.6/45.9 MB 3.8 MB/s eta 0:00:12\n",
      "   -- ------------------------------------- 2.4/45.9 MB 3.7 MB/s eta 0:00:12\n",
      "   -- ------------------------------------- 2.6/45.9 MB 3.4 MB/s eta 0:00:13\n",
      "   -- ------------------------------------- 2.9/45.9 MB 3.0 MB/s eta 0:00:15\n",
      "   --- ------------------------------------ 3.7/45.9 MB 2.9 MB/s eta 0:00:15\n",
      "   --- ------------------------------------ 4.5/45.9 MB 3.2 MB/s eta 0:00:14\n",
      "   ---- ----------------------------------- 5.5/45.9 MB 3.3 MB/s eta 0:00:13\n",
      "   ----- ---------------------------------- 6.3/45.9 MB 3.3 MB/s eta 0:00:12\n",
      "   ------ --------------------------------- 7.1/45.9 MB 3.4 MB/s eta 0:00:12\n",
      "   ------ --------------------------------- 7.9/45.9 MB 3.4 MB/s eta 0:00:12\n",
      "   ------- -------------------------------- 8.7/45.9 MB 3.5 MB/s eta 0:00:11\n",
      "   ------- -------------------------------- 8.9/45.9 MB 3.4 MB/s eta 0:00:11\n",
      "   -------- ------------------------------- 9.4/45.9 MB 3.3 MB/s eta 0:00:11\n",
      "   -------- ------------------------------- 9.7/45.9 MB 3.2 MB/s eta 0:00:12\n",
      "   -------- ------------------------------- 10.0/45.9 MB 3.1 MB/s eta 0:00:12\n",
      "   --------- ------------------------------ 10.7/45.9 MB 3.0 MB/s eta 0:00:12\n",
      "   ---------- ----------------------------- 11.5/45.9 MB 3.1 MB/s eta 0:00:12\n",
      "   ---------- ----------------------------- 12.6/45.9 MB 3.2 MB/s eta 0:00:11\n",
      "   ----------- ---------------------------- 13.6/45.9 MB 3.3 MB/s eta 0:00:10\n",
      "   ------------ --------------------------- 13.9/45.9 MB 3.3 MB/s eta 0:00:10\n",
      "   ------------ --------------------------- 14.2/45.9 MB 3.1 MB/s eta 0:00:11\n",
      "   ------------ --------------------------- 14.7/45.9 MB 3.1 MB/s eta 0:00:11\n",
      "   ------------- -------------------------- 15.5/45.9 MB 3.1 MB/s eta 0:00:10\n",
      "   ------------- -------------------------- 15.7/45.9 MB 3.0 MB/s eta 0:00:10\n",
      "   -------------- ------------------------- 16.5/45.9 MB 3.1 MB/s eta 0:00:10\n",
      "   -------------- ------------------------- 16.8/45.9 MB 3.0 MB/s eta 0:00:10\n",
      "   --------------- ------------------------ 17.3/45.9 MB 3.0 MB/s eta 0:00:10\n",
      "   --------------- ------------------------ 17.8/45.9 MB 3.0 MB/s eta 0:00:10\n",
      "   --------------- ------------------------ 18.1/45.9 MB 3.0 MB/s eta 0:00:10\n",
      "   ---------------- ----------------------- 18.6/45.9 MB 2.9 MB/s eta 0:00:10\n",
      "   ---------------- ----------------------- 19.1/45.9 MB 2.9 MB/s eta 0:00:10\n",
      "   ----------------- ---------------------- 19.7/45.9 MB 2.9 MB/s eta 0:00:10\n",
      "   ----------------- ---------------------- 19.9/45.9 MB 2.9 MB/s eta 0:00:10\n",
      "   ----------------- ---------------------- 20.4/45.9 MB 2.8 MB/s eta 0:00:10\n",
      "   ----------------- ---------------------- 20.4/45.9 MB 2.8 MB/s eta 0:00:10\n",
      "   ------------------ --------------------- 21.0/45.9 MB 2.7 MB/s eta 0:00:10\n",
      "   ------------------ --------------------- 21.2/45.9 MB 2.7 MB/s eta 0:00:10\n",
      "   ------------------ --------------------- 21.5/45.9 MB 2.7 MB/s eta 0:00:10\n",
      "   ------------------ --------------------- 21.8/45.9 MB 2.6 MB/s eta 0:00:10\n",
      "   ------------------- -------------------- 22.0/45.9 MB 2.6 MB/s eta 0:00:10\n",
      "   ------------------- -------------------- 22.3/45.9 MB 2.6 MB/s eta 0:00:10\n",
      "   ------------------- -------------------- 22.5/45.9 MB 2.6 MB/s eta 0:00:10\n",
      "   ------------------- -------------------- 22.8/45.9 MB 2.5 MB/s eta 0:00:10\n",
      "   ------------------- -------------------- 22.8/45.9 MB 2.5 MB/s eta 0:00:10\n",
      "   -------------------- ------------------- 23.1/45.9 MB 2.4 MB/s eta 0:00:10\n",
      "   -------------------- ------------------- 23.3/45.9 MB 2.4 MB/s eta 0:00:10\n",
      "   -------------------- ------------------- 23.6/45.9 MB 2.4 MB/s eta 0:00:10\n",
      "   -------------------- ------------------- 23.9/45.9 MB 2.4 MB/s eta 0:00:10\n",
      "   --------------------- ------------------ 24.4/45.9 MB 2.3 MB/s eta 0:00:10\n",
      "   --------------------- ------------------ 24.9/45.9 MB 2.3 MB/s eta 0:00:09\n",
      "   ---------------------- ----------------- 25.4/45.9 MB 2.3 MB/s eta 0:00:09\n",
      "   ---------------------- ----------------- 26.0/45.9 MB 2.4 MB/s eta 0:00:09\n",
      "   ---------------------- ----------------- 26.2/45.9 MB 2.4 MB/s eta 0:00:09\n",
      "   ----------------------- ---------------- 26.5/45.9 MB 2.3 MB/s eta 0:00:09\n",
      "   ----------------------- ---------------- 26.7/45.9 MB 2.3 MB/s eta 0:00:09\n",
      "   ----------------------- ---------------- 26.7/45.9 MB 2.3 MB/s eta 0:00:09\n",
      "   ----------------------- ---------------- 27.0/45.9 MB 2.2 MB/s eta 0:00:09\n",
      "   ----------------------- ---------------- 27.0/45.9 MB 2.2 MB/s eta 0:00:09\n",
      "   ----------------------- ---------------- 27.0/45.9 MB 2.2 MB/s eta 0:00:09\n",
      "   ----------------------- ---------------- 27.0/45.9 MB 2.2 MB/s eta 0:00:09\n",
      "   ----------------------- ---------------- 27.3/45.9 MB 2.1 MB/s eta 0:00:09\n",
      "   ----------------------- ---------------- 27.3/45.9 MB 2.1 MB/s eta 0:00:09\n",
      "   ----------------------- ---------------- 27.3/45.9 MB 2.1 MB/s eta 0:00:09\n",
      "   ----------------------- ---------------- 27.3/45.9 MB 2.1 MB/s eta 0:00:09\n",
      "   ----------------------- ---------------- 27.3/45.9 MB 2.1 MB/s eta 0:00:09\n",
      "   ----------------------- ---------------- 27.5/45.9 MB 2.0 MB/s eta 0:00:10\n",
      "   ----------------------- ---------------- 27.5/45.9 MB 2.0 MB/s eta 0:00:10\n",
      "   ----------------------- ---------------- 27.5/45.9 MB 2.0 MB/s eta 0:00:10\n",
      "   ------------------------ --------------- 27.8/45.9 MB 1.9 MB/s eta 0:00:10\n",
      "   ------------------------ --------------- 27.8/45.9 MB 1.9 MB/s eta 0:00:10\n",
      "   ------------------------ --------------- 28.0/45.9 MB 1.9 MB/s eta 0:00:10\n",
      "   ------------------------ --------------- 28.3/45.9 MB 1.9 MB/s eta 0:00:10\n",
      "   ------------------------- -------------- 28.8/45.9 MB 1.9 MB/s eta 0:00:10\n",
      "   ------------------------- -------------- 29.1/45.9 MB 1.9 MB/s eta 0:00:10\n",
      "   ------------------------- -------------- 29.6/45.9 MB 1.9 MB/s eta 0:00:09\n",
      "   -------------------------- ------------- 30.1/45.9 MB 1.9 MB/s eta 0:00:09\n",
      "   -------------------------- ------------- 30.7/45.9 MB 1.9 MB/s eta 0:00:09\n",
      "   --------------------------- ------------ 31.5/45.9 MB 1.9 MB/s eta 0:00:08\n",
      "   --------------------------- ------------ 32.0/45.9 MB 1.9 MB/s eta 0:00:08\n",
      "   ---------------------------- ----------- 33.0/45.9 MB 2.0 MB/s eta 0:00:07\n",
      "   ----------------------------- ---------- 33.8/45.9 MB 2.0 MB/s eta 0:00:07\n",
      "   ----------------------------- ---------- 34.3/45.9 MB 2.0 MB/s eta 0:00:06\n",
      "   ------------------------------ --------- 35.1/45.9 MB 2.0 MB/s eta 0:00:06\n",
      "   ------------------------------- -------- 35.9/45.9 MB 2.0 MB/s eta 0:00:05\n",
      "   ------------------------------- -------- 36.4/45.9 MB 2.0 MB/s eta 0:00:05\n",
      "   -------------------------------- ------- 37.2/45.9 MB 2.1 MB/s eta 0:00:05\n",
      "   --------------------------------- ------ 38.5/45.9 MB 2.1 MB/s eta 0:00:04\n",
      "   ---------------------------------- ----- 39.3/45.9 MB 2.1 MB/s eta 0:00:04\n",
      "   ---------------------------------- ----- 39.8/45.9 MB 2.1 MB/s eta 0:00:03\n",
      "   ---------------------------------- ----- 40.1/45.9 MB 2.1 MB/s eta 0:00:03\n",
      "   ----------------------------------- ---- 40.6/45.9 MB 2.1 MB/s eta 0:00:03\n",
      "   ------------------------------------ --- 41.4/45.9 MB 2.1 MB/s eta 0:00:03\n",
      "   ------------------------------------ --- 41.9/45.9 MB 2.1 MB/s eta 0:00:02\n",
      "   ------------------------------------- -- 42.7/45.9 MB 2.2 MB/s eta 0:00:02\n",
      "   -------------------------------------- - 43.8/45.9 MB 2.2 MB/s eta 0:00:01\n",
      "   -------------------------------------- - 44.6/45.9 MB 2.2 MB/s eta 0:00:01\n",
      "   ---------------------------------------  45.6/45.9 MB 2.2 MB/s eta 0:00:01\n",
      "   ---------------------------------------  45.9/45.9 MB 2.2 MB/s eta 0:00:01\n",
      "   ---------------------------------------- 45.9/45.9 MB 2.2 MB/s eta 0:00:00\n",
      "Downloading smart_open-7.0.5-py3-none-any.whl (61 kB)\n",
      "Installing collected packages: smart-open, scipy, gensim\n",
      "  Attempting uninstall: scipy\n",
      "    Found existing installation: scipy 1.14.1\n",
      "    Uninstalling scipy-1.14.1:\n",
      "      Successfully uninstalled scipy-1.14.1\n",
      "Successfully installed gensim-4.3.3 scipy-1.13.1 smart-open-7.0.5\n"
     ]
    },
    {
     "name": "stderr",
     "output_type": "stream",
     "text": [
      "  WARNING: Failed to remove contents in a temporary directory 'C:\\Users\\mishr\\AppData\\Local\\Programs\\Python\\Python312\\Lib\\site-packages\\~cipy.libs'.\n",
      "  You can safely remove it manually.\n",
      "  WARNING: Failed to remove contents in a temporary directory 'C:\\Users\\mishr\\AppData\\Local\\Programs\\Python\\Python312\\Lib\\site-packages\\~cipy'.\n",
      "  You can safely remove it manually.\n",
      "\n",
      "[notice] A new release of pip is available: 24.2 -> 24.3.1\n",
      "[notice] To update, run: python.exe -m pip install --upgrade pip\n"
     ]
    },
    {
     "name": "stdout",
     "output_type": "stream",
     "text": [
      "Requirement already satisfied: nltk in c:\\users\\mishr\\appdata\\local\\programs\\python\\python312\\lib\\site-packages (3.9.1)\n",
      "Requirement already satisfied: click in c:\\users\\mishr\\appdata\\local\\programs\\python\\python312\\lib\\site-packages (from nltk) (8.1.7)\n",
      "Requirement already satisfied: joblib in c:\\users\\mishr\\appdata\\local\\programs\\python\\python312\\lib\\site-packages (from nltk) (1.4.2)\n",
      "Requirement already satisfied: regex>=2021.8.3 in c:\\users\\mishr\\appdata\\local\\programs\\python\\python312\\lib\\site-packages (from nltk) (2024.9.11)\n",
      "Requirement already satisfied: tqdm in c:\\users\\mishr\\appdata\\local\\programs\\python\\python312\\lib\\site-packages (from nltk) (4.66.4)\n",
      "Requirement already satisfied: colorama in c:\\users\\mishr\\appdata\\roaming\\python\\python312\\site-packages (from click->nltk) (0.4.6)\n"
     ]
    },
    {
     "name": "stderr",
     "output_type": "stream",
     "text": [
      "\n",
      "[notice] A new release of pip is available: 24.2 -> 24.3.1\n",
      "[notice] To update, run: python.exe -m pip install --upgrade pip\n"
     ]
    }
   ],
   "source": [
    "!pip install gensim\n",
    "!pip install nltk"
   ]
  },
  {
   "cell_type": "code",
   "execution_count": 18,
   "metadata": {},
   "outputs": [
    {
     "name": "stderr",
     "output_type": "stream",
     "text": [
      "[nltk_data] Downloading package punkt_tab to\n",
      "[nltk_data]     C:\\Users\\mishr\\AppData\\Roaming\\nltk_data...\n",
      "[nltk_data]   Package punkt_tab is already up-to-date!\n",
      "[nltk_data] Downloading package punkt to\n",
      "[nltk_data]     C:\\Users\\mishr\\AppData\\Roaming\\nltk_data...\n",
      "[nltk_data]   Package punkt is already up-to-date!\n",
      "[nltk_data] Downloading package wordnet to\n",
      "[nltk_data]     C:\\Users\\mishr\\AppData\\Roaming\\nltk_data...\n",
      "[nltk_data]   Package wordnet is already up-to-date!\n",
      "[nltk_data] Downloading package stopwords to\n",
      "[nltk_data]     C:\\Users\\mishr\\AppData\\Roaming\\nltk_data...\n",
      "[nltk_data]   Package stopwords is already up-to-date!\n"
     ]
    }
   ],
   "source": [
    "# Step 1: Import Libraries\n",
    "import os\n",
    "import numpy as np\n",
    "import pandas as pd\n",
    "import seaborn as sns\n",
    "import matplotlib.pyplot as plt\n",
    "from gensim.models import CoherenceModel\n",
    "from gensim.corpora import Dictionary\n",
    "from gensim.models.ldamodel import LdaModel\n",
    "from sklearn.datasets import fetch_20newsgroups\n",
    "import nltk\n",
    "\n",
    "nltk.download('punkt_tab')\n",
    "nltk.download('punkt')\n",
    "nltk.download('wordnet')\n",
    "nltk.download('stopwords')\n",
    "\n",
    "from nltk.tokenize import word_tokenize\n",
    "from nltk.corpus import stopwords\n",
    "from nltk.stem import WordNetLemmatizer\n",
    "from nltk import download\n",
    "from pprint import pprint\n",
    "\n",
    "\n",
    "\n",
    "\n",
    "# Step 2: Specify custom NLTK data directory and set environment variable\n",
    "# nltk_data_path = '/kaggle/working/nltk_data'\n",
    "# os.makedirs(nltk_data_path, exist_ok=True)\n",
    "# os.environ['NLTK_DATA'] = nltk_data_path\n",
    "\n",
    "# Download NLTK resources required for processing\n",
    "# download('punkt', download_dir=nltk_data_path)\n",
    "# download('stopwords', download_dir=nltk_data_path)\n",
    "# download('wordnet', download_dir=nltk_data_path)\n",
    "\n",
    "# Step 3: Fetch and Preprocess Texts\n",
    "# Fetch the 20 Newsgroups dataset\n",
    "\n",
    "newsgroups_data = fetch_20newsgroups(subset='all')\n",
    "texts = newsgroups_data.data\n",
    "\n",
    "# Text Preprocessing\n",
    "stop_words = set(stopwords.words('english'))\n",
    "lemmatizer = WordNetLemmatizer()\n",
    "\n",
    "def preprocess(text):\n",
    "    tokens = word_tokenize(text.lower())\n",
    "    tokens = [lemmatizer.lemmatize(token) for token in tokens if token.isalpha() and token not in stop_words]\n",
    "    return tokens\n",
    "\n",
    "processed_texts = [preprocess(text) for text in texts]\n",
    "\n",
    "# Step 4: Create Dictionary and Corpus\n",
    "dictionary = Dictionary(processed_texts)\n",
    "corpus = [dictionary.doc2bow(text) for text in processed_texts]\n",
    "\n",
    "# Step 5: Define Topics for Coherence Evaluation\n",
    "lda_model = LdaModel(corpus=corpus, id2word=dictionary, num_topics=20, random_state=42, passes=10)\n",
    "\n",
    "# Step 6: Evaluate Topics using Coherence Model\n",
    "coherence_model = CoherenceModel(model=lda_model, texts=processed_texts, dictionary=dictionary, coherence='c_npmi')\n",
    "topic_coherence = coherence_model.get_coherence_per_topic()\n",
    "\n",
    "\n"
   ]
  },
  {
   "cell_type": "code",
   "execution_count": 21,
   "metadata": {},
   "outputs": [
    {
     "data": {
      "text/plain": [
       "[0.0480971205173823,\n",
       " 0.04012050784757573,\n",
       " 0.03261261387315945,\n",
       " 0.13790576551708236,\n",
       " 0.0943482878751994,\n",
       " -0.1182003928041486,\n",
       " 0.36627916172093333,\n",
       " 0.05737438716260038,\n",
       " 0.1288962337585196,\n",
       " 0.1103978593262378,\n",
       " 0.01369653091747866,\n",
       " 0.0315071781734533,\n",
       " -0.010498967928044061,\n",
       " 0.012924508666769908,\n",
       " 0.006462075418464862,\n",
       " 0.12154615196780502,\n",
       " -0.03201252914178413,\n",
       " 0.07468784816064314,\n",
       " 0.06964786510946885,\n",
       " 0.06063313602816475]"
      ]
     },
     "execution_count": 21,
     "metadata": {},
     "output_type": "execute_result"
    }
   ],
   "source": [
    "topic_coherence"
   ]
  },
  {
   "cell_type": "code",
   "execution_count": 22,
   "metadata": {},
   "outputs": [
    {
     "name": "stdout",
     "output_type": "stream",
     "text": [
      "Topic 0: 0.016*\"medical\" + 0.014*\"disease\" + 0.014*\"drug\" + 0.013*\"patient\" + 0.013*\"bank\" + 0.012*\"doctor\" + 0.010*\"gordon\" + 0.009*\"treatment\" + 0.009*\"health\" + 0.008*\"medicine\"\n",
      "Topic 1: 0.030*\"line\" + 0.029*\"subject\" + 0.028*\"organization\" + 0.017*\"university\" + 0.011*\"thanks\" + 0.010*\"please\" + 0.009*\"distribution\" + 0.009*\"sale\" + 0.008*\"would\" + 0.008*\"anyone\"\n",
      "Topic 2: 0.023*\"university\" + 0.016*\"western\" + 0.015*\"georgia\" + 0.013*\"reserve\" + 0.012*\"michael\" + 0.012*\"cleveland\" + 0.011*\"organization\" + 0.010*\"subject\" + 0.010*\"denver\" + 0.010*\"line\"\n",
      "Topic 3: 0.026*\"space\" + 0.010*\"earth\" + 0.009*\"nasa\" + 0.008*\"henry\" + 0.008*\"moon\" + 0.008*\"mission\" + 0.008*\"orbit\" + 0.007*\"launch\" + 0.006*\"satellite\" + 0.006*\"planet\"\n",
      "Topic 4: 0.027*\"image\" + 0.021*\"file\" + 0.012*\"available\" + 0.011*\"data\" + 0.011*\"program\" + 0.010*\"software\" + 0.009*\"ftp\" + 0.009*\"graphic\" + 0.009*\"format\" + 0.008*\"list\"\n",
      "Topic 5: 0.021*\"insurance\" + 0.017*\"canada\" + 0.016*\"gary\" + 0.014*\"european\" + 0.011*\"ra\" + 0.010*\"canadian\" + 0.010*\"cipher\" + 0.010*\"germany\" + 0.010*\"american\" + 0.009*\"sweden\"\n",
      "Topic 6: 0.058*\"p\" + 0.053*\"r\" + 0.048*\"g\" + 0.046*\"max\" + 0.045*\"q\" + 0.039*\"n\" + 0.036*\"w\" + 0.033*\"c\" + 0.032*\"b\" + 0.030*\"e\"\n",
      "Topic 7: 0.020*\"key\" + 0.010*\"chip\" + 0.009*\"use\" + 0.008*\"system\" + 0.008*\"encryption\" + 0.008*\"clipper\" + 0.007*\"government\" + 0.006*\"public\" + 0.006*\"de\" + 0.006*\"security\"\n",
      "Topic 8: 0.033*\"subject\" + 0.033*\"line\" + 0.033*\"organization\" + 0.028*\"writes\" + 0.026*\"article\" + 0.015*\"university\" + 0.008*\"apr\" + 0.006*\"gmt\" + 0.006*\"distribution\" + 0.005*\"david\"\n",
      "Topic 9: 0.022*\"drive\" + 0.019*\"card\" + 0.013*\"disk\" + 0.010*\"mac\" + 0.010*\"system\" + 0.010*\"driver\" + 0.009*\"line\" + 0.008*\"subject\" + 0.008*\"problem\" + 0.008*\"organization\"\n",
      "Topic 10: 0.008*\"writes\" + 0.008*\"israel\" + 0.008*\"article\" + 0.007*\"subject\" + 0.006*\"jew\" + 0.006*\"people\" + 0.006*\"organization\" + 0.006*\"israeli\" + 0.006*\"line\" + 0.005*\"war\"\n",
      "Topic 11: 0.024*\"game\" + 0.016*\"year\" + 0.015*\"team\" + 0.013*\"player\" + 0.008*\"line\" + 0.008*\"subject\" + 0.008*\"organization\" + 0.008*\"writes\" + 0.007*\"fan\" + 0.007*\"run\"\n",
      "Topic 12: 0.010*\"line\" + 0.010*\"one\" + 0.010*\"writes\" + 0.009*\"subject\" + 0.008*\"organization\" + 0.008*\"like\" + 0.008*\"article\" + 0.007*\"get\" + 0.006*\"back\" + 0.006*\"time\"\n",
      "Topic 13: 0.012*\"gun\" + 0.009*\"armenian\" + 0.008*\"state\" + 0.008*\"government\" + 0.007*\"people\" + 0.007*\"said\" + 0.006*\"child\" + 0.006*\"president\" + 0.006*\"weapon\" + 0.006*\"law\"\n",
      "Topic 14: 0.023*\"would\" + 0.014*\"people\" + 0.014*\"think\" + 0.012*\"know\" + 0.012*\"one\" + 0.012*\"like\" + 0.010*\"get\" + 0.010*\"writes\" + 0.009*\"thing\" + 0.008*\"make\"\n",
      "Topic 15: 0.012*\"game\" + 0.011*\"team\" + 0.007*\"goal\" + 0.007*\"playoff\" + 0.007*\"hockey\" + 0.006*\"wing\" + 0.006*\"win\" + 0.006*\"boston\" + 0.006*\"leaf\" + 0.006*\"play\"\n",
      "Topic 16: 0.026*\"car\" + 0.008*\"engine\" + 0.006*\"food\" + 0.006*\"also\" + 0.006*\"use\" + 0.005*\"db\" + 0.005*\"used\" + 0.005*\"problem\" + 0.005*\"oil\" + 0.004*\"dealer\"\n",
      "Topic 17: 0.032*\"god\" + 0.013*\"christian\" + 0.011*\"jesus\" + 0.010*\"church\" + 0.008*\"one\" + 0.008*\"bible\" + 0.007*\"christ\" + 0.006*\"muslim\" + 0.006*\"sin\" + 0.006*\"book\"\n",
      "Topic 18: 0.011*\"one\" + 0.010*\"evidence\" + 0.009*\"atheist\" + 0.009*\"god\" + 0.008*\"say\" + 0.008*\"argument\" + 0.008*\"belief\" + 0.007*\"believe\" + 0.006*\"religion\" + 0.006*\"mean\"\n",
      "Topic 19: 0.024*\"x\" + 0.023*\"window\" + 0.012*\"file\" + 0.010*\"line\" + 0.010*\"program\" + 0.009*\"use\" + 0.009*\"subject\" + 0.008*\"problem\" + 0.007*\"using\" + 0.007*\"application\"\n"
     ]
    }
   ],
   "source": [
    "# Print the top words for each topic\n",
    "for i, topic in lda_model.print_topics(num_words=10):\n",
    "    print(f\"Topic {i}: {topic}\")\n"
   ]
  },
  {
   "cell_type": "code",
   "execution_count": 23,
   "metadata": {},
   "outputs": [
    {
     "name": "stderr",
     "output_type": "stream",
     "text": [
      "C:\\Users\\mishr\\AppData\\Local\\Temp\\ipykernel_14276\\2182819662.py:4: FutureWarning: \n",
      "\n",
      "Passing `palette` without assigning `hue` is deprecated and will be removed in v0.14.0. Assign the `x` variable to `hue` and set `legend=False` for the same effect.\n",
      "\n",
      "  sns.barplot(x=np.arange(len(topic_coherence)), y=topic_coherence, palette=\"Blues_d\")\n"
     ]
    },
    {
     "data": {
      "image/png": "[encoded data removed]",
      "text/plain": [
       "<Figure size 1000x500 with 1 Axes>"
      ]
     },
     "metadata": {},
     "output_type": "display_data"
    }
   ],
   "source": [
    "\n",
    "# Step 7: Visualize the Coherence Scores\n",
    "sns.set(style=\"whitegrid\")\n",
    "plt.figure(figsize=(10, 5))\n",
    "sns.barplot(x=np.arange(len(topic_coherence)), y=topic_coherence, palette=\"Blues_d\")\n",
    "plt.xlabel(\"Topic\")\n",
    "plt.ylabel(\"Coherence Score\")\n",
    "plt.title(\"Topic Coherence Scores for 20 Newsgroups Dataset\")\n",
    "plt.show()"
   ]
  },
  {
   "cell_type": "code",
   "execution_count": 24,
   "metadata": {},
   "outputs": [
    {
     "name": "stdout",
     "output_type": "stream",
     "text": [
      "Topics and Coherence Scores:\n",
      "Topic 0: 0.016*\"medical\" + 0.014*\"disease\" + 0.014*\"drug\" + 0.013*\"patient\" + 0.013*\"bank\" | Coherence Score: 0.0480971205173823\n",
      "Topic 1: 0.030*\"line\" + 0.029*\"subject\" + 0.028*\"organization\" + 0.017*\"university\" + 0.011*\"thanks\" | Coherence Score: 0.04012050784757573\n",
      "Topic 2: 0.023*\"university\" + 0.016*\"western\" + 0.015*\"georgia\" + 0.013*\"reserve\" + 0.012*\"michael\" | Coherence Score: 0.03261261387315945\n",
      "Topic 3: 0.026*\"space\" + 0.010*\"earth\" + 0.009*\"nasa\" + 0.008*\"henry\" + 0.008*\"moon\" | Coherence Score: 0.13790576551708236\n",
      "Topic 4: 0.027*\"image\" + 0.021*\"file\" + 0.012*\"available\" + 0.011*\"data\" + 0.011*\"program\" | Coherence Score: 0.0943482878751994\n",
      "Topic 5: 0.021*\"insurance\" + 0.017*\"canada\" + 0.016*\"gary\" + 0.014*\"european\" + 0.011*\"ra\" | Coherence Score: -0.1182003928041486\n",
      "Topic 6: 0.058*\"p\" + 0.053*\"r\" + 0.048*\"g\" + 0.046*\"max\" + 0.045*\"q\" | Coherence Score: 0.36627916172093333\n",
      "Topic 7: 0.020*\"key\" + 0.010*\"chip\" + 0.009*\"use\" + 0.008*\"system\" + 0.008*\"encryption\" | Coherence Score: 0.05737438716260038\n",
      "Topic 8: 0.033*\"subject\" + 0.033*\"line\" + 0.033*\"organization\" + 0.028*\"writes\" + 0.026*\"article\" | Coherence Score: 0.1288962337585196\n",
      "Topic 9: 0.022*\"drive\" + 0.019*\"card\" + 0.013*\"disk\" + 0.010*\"mac\" + 0.010*\"system\" | Coherence Score: 0.1103978593262378\n",
      "Topic 10: 0.008*\"writes\" + 0.008*\"israel\" + 0.008*\"article\" + 0.007*\"subject\" + 0.006*\"jew\" | Coherence Score: 0.01369653091747866\n",
      "Topic 11: 0.024*\"game\" + 0.016*\"year\" + 0.015*\"team\" + 0.013*\"player\" + 0.008*\"line\" | Coherence Score: 0.0315071781734533\n",
      "Topic 12: 0.010*\"line\" + 0.010*\"one\" + 0.010*\"writes\" + 0.009*\"subject\" + 0.008*\"organization\" | Coherence Score: -0.010498967928044061\n",
      "Topic 13: 0.012*\"gun\" + 0.009*\"armenian\" + 0.008*\"state\" + 0.008*\"government\" + 0.007*\"people\" | Coherence Score: 0.012924508666769908\n",
      "Topic 14: 0.023*\"would\" + 0.014*\"people\" + 0.014*\"think\" + 0.012*\"know\" + 0.012*\"one\" | Coherence Score: 0.006462075418464862\n",
      "Topic 15: 0.012*\"game\" + 0.011*\"team\" + 0.007*\"goal\" + 0.007*\"playoff\" + 0.007*\"hockey\" | Coherence Score: 0.12154615196780502\n",
      "Topic 16: 0.026*\"car\" + 0.008*\"engine\" + 0.006*\"food\" + 0.006*\"also\" + 0.006*\"use\" | Coherence Score: -0.03201252914178413\n",
      "Topic 17: 0.032*\"god\" + 0.013*\"christian\" + 0.011*\"jesus\" + 0.010*\"church\" + 0.008*\"one\" | Coherence Score: 0.07468784816064314\n",
      "Topic 18: 0.011*\"one\" + 0.010*\"evidence\" + 0.009*\"atheist\" + 0.009*\"god\" + 0.008*\"say\" | Coherence Score: 0.06964786510946885\n",
      "Topic 19: 0.024*\"x\" + 0.023*\"window\" + 0.012*\"file\" + 0.010*\"line\" + 0.010*\"program\" | Coherence Score: 0.06063313602816475\n"
     ]
    }
   ],
   "source": [
    "# Step 8: Display Topics and Coherence Scores\n",
    "topics = lda_model.print_topics(num_words=5)\n",
    "print(\"Topics and Coherence Scores:\")\n",
    "for i, topic in enumerate(topics):\n",
    "    print(f\"Topic {i}: {topic[1]} | Coherence Score: {topic_coherence[i]}\")\n"
   ]
  },
  {
   "cell_type": "code",
   "execution_count": null,
   "metadata": {},
   "outputs": [],
   "source": [
    "# Save the LDA model\n",
    "lda_model.save(\"lda_model.model\")\n",
    "\n",
    "# Save the dictionary\n",
    "dictionary.save(\"dictionary.dict\")\n",
    "\n"
   ]
  },
  {
   "cell_type": "code",
   "execution_count": null,
   "metadata": {},
   "outputs": [],
   "source": [
    "from gensim.models import LdaModel\n",
    "from gensim.corpora import Dictionary\n",
    "\n",
    "# Load the saved LDA model\n",
    "lda_model = LdaModel.load(\"lda_model.model\")\n",
    "\n",
    "# Load the dictionary\n",
    "dictionary = Dictionary.load(\"dictionary.dict\")\n",
    "\n",
    "\n",
    "\n"
   ]
  },
  {
   "cell_type": "code",
   "execution_count": 36,
   "metadata": {},
   "outputs": [
    {
     "name": "stdout",
     "output_type": "stream",
     "text": [
      "Topic distribution for the new text:\n",
      "Topic 0: Probability 0.1712334305047989\n",
      "Topic 1: Probability 0.01925443299114704\n",
      "Topic 7: Probability 0.36453524231910706\n",
      "Topic 10: Probability 0.1465645581483841\n",
      "Topic 11: Probability 0.0206940695643425\n",
      "Topic 14: Probability 0.04681925103068352\n",
      "Topic 16: Probability 0.2205362617969513\n"
     ]
    }
   ],
   "source": [
    "# Define a new text to test\n",
    "new_text = \"The ethics of releasing new medicine hinge on patient safety, efficacy, and informed consent. Medicines should be rigorously tested through clinical trials to minimize risks and ensure they truly benefit patients. Accelerating approvals, especially in emergencies, raises concerns about safety versus urgent need. Transparency with the public is crucial, as is ongoing monitoring for side effects post-release. Pharmaceutical companies must prioritize public health over profit, avoiding exploitation or harmful marketing tactics. Ethical medicine release requires balancing innovation with caution, respecting patient rights, and ensuring equitable access to new treatments worldwide, especially for vulnerable populations.\"\n",
    "# Preprocess the new text\n",
    "def preprocess(text):\n",
    "    tokens = word_tokenize(text.lower())\n",
    "    tokens = [lemmatizer.lemmatize(token) for token in tokens if token.isalpha() and token not in stop_words]\n",
    "    return tokens\n",
    "\n",
    "new_processed_text = preprocess(new_text)\n",
    "\n",
    "# Convert the new text to bag-of-words format\n",
    "new_bow = dictionary.doc2bow(new_processed_text)\n",
    "\n",
    "# Get the topic distribution for the new text\n",
    "topic_distribution = lda_model.get_document_topics(new_bow)\n",
    "\n",
    "# Display the topic distribution\n",
    "print(\"Topic distribution for the new text:\")\n",
    "for topic_id, prob in topic_distribution:\n",
    "    print(f\"Topic {topic_id}: Probability {prob}\")\n"
   ]
  },
  {
   "cell_type": "code",
   "execution_count": 37,
   "metadata": {},
   "outputs": [
    {
     "name": "stdout",
     "output_type": "stream",
     "text": [
      "Coherence Score for the new text: -0.7416747773222907\n"
     ]
    }
   ],
   "source": [
    "from gensim.models import CoherenceModel\n",
    "\n",
    "# Generate coherence score using the 'u_mass' metric for the new text\n",
    "new_text_coherence_model = CoherenceModel(\n",
    "    model=lda_model,\n",
    "    texts=[new_processed_text],  # single document in a list\n",
    "    dictionary=dictionary,\n",
    "    coherence='u_mass'\n",
    ")\n",
    "\n",
    "# Calculate coherence score\n",
    "new_text_coherence_score = new_text_coherence_model.get_coherence()\n",
    "\n",
    "# Display the result\n",
    "print(f\"Coherence Score for the new text: {new_text_coherence_score}\")\n"
   ]
  },
  {
   "cell_type": "code",
   "execution_count": null,
   "metadata": {},
   "outputs": [],
   "source": []
  },
  {
   "cell_type": "code",
   "execution_count": null,
   "metadata": {},
   "outputs": [],
   "source": []
  }
 ],
 "metadata": {
  "kernelspec": {
   "display_name": "Python 3",
   "language": "python",
   "name": "python3"
  },
  "language_info": {
   "codemirror_mode": {
    "name": "ipython",
    "version": 3
   },
   "file_extension": ".py",
   "mimetype": "text/x-python",
   "name": "python",
   "nbconvert_exporter": "python",
   "pygments_lexer": "ipython3",
   "version": "3.12.6"
  }
 },
 "nbformat": 4,
 "nbformat_minor": 2
}
